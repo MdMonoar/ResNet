{
  "cells": [
    {
      "cell_type": "markdown",
      "source": [
        "# Lecture 7 assignment"
      ],
      "metadata": {
        "id": "J1bCggD_TsEE"
      }
    },
    {
      "cell_type": "markdown",
      "source": [
        "so in batch_norm layer the last parameter(channel in our case) of the shape is multiplyed by four,\n",
        "\n",
        "parameters after batch_norm = last parameter(channel in our case) of the shape of previous layer * 4\n",
        "\n",
        "but why?\n",
        "\n",
        "for each feature (in our case channel) in the input data batch_norm introduces four parameters\n",
        "\n",
        "1. gamma (scaling param)\n",
        "2. beta (shifting param)\n",
        "3. mov_mean (running mean(non-trainable))\n",
        "4. mov_var (running variance(non-trainable))\n",
        "\n",
        "non-trainable parameters are used during inference (testing) to normalize the input data\n",
        "\n",
        "so, the number of total parameters = 4 * n;\n",
        "where n = number of features (in our case channel)"
      ],
      "metadata": {
        "id": "I7jsvdiO4PFc"
      }
    },
    {
      "cell_type": "code",
      "execution_count": 13,
      "metadata": {
        "id": "kA2AYJ36EbE3"
      },
      "outputs": [],
      "source": []
    },
    {
      "cell_type": "markdown",
      "source": [
        "<b> Assignment q2) Activation softmax why at the classification layer? </b>\n",
        "\n",
        "softmax is a mathematicl function that converts a vector of numbers into a vector of probabilities, if we configure our network to output N values, one for each class in the classification task, the softmax function is used to normalize the outputs, converting them from weighted sum values into probabilities that sum to one. each value in the output of the softmax function is indicates the probability of membership for each class.\n",
        "That's why we use softmax activation in the classification"
      ],
      "metadata": {
        "id": "0b8gjRBkAdpb"
      }
    },
    {
      "cell_type": "markdown",
      "source": [
        "# **Assignment 3 lecture-8**"
      ],
      "metadata": {
        "id": "xNZwYSw-bi-F"
      }
    },
    {
      "cell_type": "markdown",
      "source": [
        "![custom_resnet_diagram.png](data:image/png;base64,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)"
      ],
      "metadata": {
        "id": "i1c5EdNgRzHA"
      }
    },
    {
      "cell_type": "code",
      "execution_count": null,
      "metadata": {
        "id": "6V44znqgwHCF"
      },
      "outputs": [],
      "source": [
        "\n",
        "import tensorflow as tf\n",
        "import numpy as np\n",
        "import pandas as pd\n",
        "import cv2\n",
        "import os\n",
        "import tqdm, time\n",
        "\n",
        "import glob\n",
        "import random,time\n",
        "\n",
        "import math\n",
        "\n",
        "from functools import partial\n",
        "\n",
        "from tensorflow import keras\n",
        "from tensorflow.keras import layers\n",
        "from tensorflow.keras.layers import *\n",
        "from tensorflow.keras.models import *\n",
        "from tensorflow.keras.callbacks import *\n",
        "from tensorflow.keras import backend as K\n",
        "from tensorflow.keras.utils import *\n",
        "from tensorflow.keras.regularizers import *"
      ]
    },
    {
      "cell_type": "code",
      "source": [
        "def res_block(in_tensor, n_fiter, s_krnl, do_norm=True):\n",
        "  in_tensor_0 = Conv2D(n_filter, kernel_size=(1, 1), padding='same', activation='relu')(in_tensor)\n",
        "\n",
        "  ftr1 = Conv2D(n_filter, kernel_size=(s_krnl, s_krnl), padding='same', activation='relu')(in_tensor_0)\n",
        "  ftr2 = Conv2D(n_filter, kernel_size=(s_krnl, s_krnl), padding='same', activation='relu')(ftr1)\n",
        "  ftr3 = Conv2D(n_filter, kernel_size=(s_krnl, s_krnl), padding='same', activation='relu')(ftr2)\n",
        "  residual_output = add([ftr3, in_tensor_0])\n",
        "\n",
        "  if do_norm:\n",
        "    residual_output = BatchNormalization()(residual_output)\n",
        "\n",
        "  return residual_output"
      ],
      "metadata": {
        "id": "U0_6hCnoDsIX"
      },
      "execution_count": 15,
      "outputs": []
    },
    {
      "cell_type": "code",
      "source": [
        "from keras.src.layers.pooling.average_pooling2d import AveragePooling2D\n",
        "inp_dim = 224\n",
        "n_channel = 3\n",
        "n_classes = 10\n",
        "\n",
        "n_filter = 64\n",
        "s_krnl = 3\n",
        "dropout = 0.3\n",
        "\n",
        "inputs = Input(shape=(inp_dim, inp_dim, n_channel))\n",
        "\n",
        "n_filter_col = [n_filter, n_filter*2, n_filter*4, n_filter*8]\n",
        "\n",
        "\n",
        "y = Conv2D(n_filter, kernel_size=(s_krnl, s_krnl), padding='same')(inputs)\n",
        "y = BatchNormalization()(y)\n",
        "y = Activation('relu')(y)\n",
        "y = MaxPooling2D()(y)\n",
        "\n",
        "\n",
        "for i in range(len(n_filter_col)):\n",
        "  y = res_block(y, n_filter_col[i], s_krnl, do_norm=True)\n",
        "\n",
        "\n",
        "y = AveragePooling2D(s_krnl, s_krnl)(y)\n",
        "y = Flatten()(y)\n",
        "outputs = Dense(n_classes, activation='softmax')(y)\n",
        "\n",
        "\n",
        "model = Model(inputs=inputs, outputs=outputs)\n",
        "model.summary()"
      ],
      "metadata": {
        "colab": {
          "base_uri": "https://localhost:8080/"
        },
        "id": "f9AqNbQoCsYS",
        "outputId": "43868255-9ec8-4db7-807f-567e6a7a2a39"
      },
      "execution_count": 33,
      "outputs": [
        {
          "output_type": "stream",
          "name": "stdout",
          "text": [
            "Model: \"model_20\"\n",
            "__________________________________________________________________________________________________\n",
            " Layer (type)                Output Shape                 Param #   Connected to                  \n",
            "==================================================================================================\n",
            " input_25 (InputLayer)       [(None, 224, 224, 3)]        0         []                            \n",
            "                                                                                                  \n",
            " conv2d_284 (Conv2D)         (None, 224, 224, 64)         1792      ['input_25[0][0]']            \n",
            "                                                                                                  \n",
            " batch_normalization_84 (Ba  (None, 224, 224, 64)         256       ['conv2d_284[0][0]']          \n",
            " tchNormalization)                                                                                \n",
            "                                                                                                  \n",
            " activation_17 (Activation)  (None, 224, 224, 64)         0         ['batch_normalization_84[0][0]\n",
            "                                                                    ']                            \n",
            "                                                                                                  \n",
            " max_pooling2d_36 (MaxPooli  (None, 112, 112, 64)         0         ['activation_17[0][0]']       \n",
            " ng2D)                                                                                            \n",
            "                                                                                                  \n",
            " conv2d_285 (Conv2D)         (None, 112, 112, 64)         4160      ['max_pooling2d_36[0][0]']    \n",
            "                                                                                                  \n",
            " conv2d_286 (Conv2D)         (None, 112, 112, 64)         36928     ['conv2d_285[0][0]']          \n",
            "                                                                                                  \n",
            " conv2d_287 (Conv2D)         (None, 112, 112, 64)         36928     ['conv2d_286[0][0]']          \n",
            "                                                                                                  \n",
            " conv2d_288 (Conv2D)         (None, 112, 112, 64)         36928     ['conv2d_287[0][0]']          \n",
            "                                                                                                  \n",
            " add_64 (Add)                (None, 112, 112, 64)         0         ['conv2d_288[0][0]',          \n",
            "                                                                     'conv2d_285[0][0]']          \n",
            "                                                                                                  \n",
            " batch_normalization_85 (Ba  (None, 112, 112, 64)         256       ['add_64[0][0]']              \n",
            " tchNormalization)                                                                                \n",
            "                                                                                                  \n",
            " conv2d_289 (Conv2D)         (None, 112, 112, 64)         4160      ['batch_normalization_85[0][0]\n",
            "                                                                    ']                            \n",
            "                                                                                                  \n",
            " conv2d_290 (Conv2D)         (None, 112, 112, 64)         36928     ['conv2d_289[0][0]']          \n",
            "                                                                                                  \n",
            " conv2d_291 (Conv2D)         (None, 112, 112, 64)         36928     ['conv2d_290[0][0]']          \n",
            "                                                                                                  \n",
            " conv2d_292 (Conv2D)         (None, 112, 112, 64)         36928     ['conv2d_291[0][0]']          \n",
            "                                                                                                  \n",
            " add_65 (Add)                (None, 112, 112, 64)         0         ['conv2d_292[0][0]',          \n",
            "                                                                     'conv2d_289[0][0]']          \n",
            "                                                                                                  \n",
            " batch_normalization_86 (Ba  (None, 112, 112, 64)         256       ['add_65[0][0]']              \n",
            " tchNormalization)                                                                                \n",
            "                                                                                                  \n",
            " conv2d_293 (Conv2D)         (None, 112, 112, 64)         4160      ['batch_normalization_86[0][0]\n",
            "                                                                    ']                            \n",
            "                                                                                                  \n",
            " conv2d_294 (Conv2D)         (None, 112, 112, 64)         36928     ['conv2d_293[0][0]']          \n",
            "                                                                                                  \n",
            " conv2d_295 (Conv2D)         (None, 112, 112, 64)         36928     ['conv2d_294[0][0]']          \n",
            "                                                                                                  \n",
            " conv2d_296 (Conv2D)         (None, 112, 112, 64)         36928     ['conv2d_295[0][0]']          \n",
            "                                                                                                  \n",
            " add_66 (Add)                (None, 112, 112, 64)         0         ['conv2d_296[0][0]',          \n",
            "                                                                     'conv2d_293[0][0]']          \n",
            "                                                                                                  \n",
            " batch_normalization_87 (Ba  (None, 112, 112, 64)         256       ['add_66[0][0]']              \n",
            " tchNormalization)                                                                                \n",
            "                                                                                                  \n",
            " conv2d_297 (Conv2D)         (None, 112, 112, 64)         4160      ['batch_normalization_87[0][0]\n",
            "                                                                    ']                            \n",
            "                                                                                                  \n",
            " conv2d_298 (Conv2D)         (None, 112, 112, 64)         36928     ['conv2d_297[0][0]']          \n",
            "                                                                                                  \n",
            " conv2d_299 (Conv2D)         (None, 112, 112, 64)         36928     ['conv2d_298[0][0]']          \n",
            "                                                                                                  \n",
            " conv2d_300 (Conv2D)         (None, 112, 112, 64)         36928     ['conv2d_299[0][0]']          \n",
            "                                                                                                  \n",
            " add_67 (Add)                (None, 112, 112, 64)         0         ['conv2d_300[0][0]',          \n",
            "                                                                     'conv2d_297[0][0]']          \n",
            "                                                                                                  \n",
            " batch_normalization_88 (Ba  (None, 112, 112, 64)         256       ['add_67[0][0]']              \n",
            " tchNormalization)                                                                                \n",
            "                                                                                                  \n",
            " average_pooling2d_15 (Aver  (None, 37, 37, 64)           0         ['batch_normalization_88[0][0]\n",
            " agePooling2D)                                                      ']                            \n",
            "                                                                                                  \n",
            " flatten_16 (Flatten)        (None, 87616)                0         ['average_pooling2d_15[0][0]']\n",
            "                                                                                                  \n",
            " dense_15 (Dense)            (None, 10)                   876170    ['flatten_16[0][0]']          \n",
            "                                                                                                  \n",
            "==================================================================================================\n",
            "Total params: 1339018 (5.11 MB)\n",
            "Trainable params: 1338378 (5.11 MB)\n",
            "Non-trainable params: 640 (2.50 KB)\n",
            "__________________________________________________________________________________________________\n"
          ]
        }
      ]
    },
    {
      "cell_type": "code",
      "source": [],
      "metadata": {
        "id": "xAR_ywyiTgUh"
      },
      "execution_count": null,
      "outputs": []
    },
    {
      "cell_type": "code",
      "source": [
        "x = Input(shape=(1))\n",
        "y = tf.square(x)  # This op will be treated like a layer\n",
        "y = BatchNormalization()(y)\n",
        "model = Model(x, y)\n",
        "model.summary()"
      ],
      "metadata": {
        "colab": {
          "base_uri": "https://localhost:8080/"
        },
        "id": "ANnHGZev4ZuW",
        "outputId": "d2a231a0-fe57-4fe4-cc2e-befbd0c41faf"
      },
      "execution_count": null,
      "outputs": [
        {
          "output_type": "stream",
          "name": "stdout",
          "text": [
            "Model: \"model\"\n",
            "_________________________________________________________________\n",
            " Layer (type)                Output Shape              Param #   \n",
            "=================================================================\n",
            " input_1 (InputLayer)        [(None, 1)]               0         \n",
            "                                                                 \n",
            " tf.math.square (TFOpLambda  (None, 1)                 0         \n",
            " )                                                               \n",
            "                                                                 \n",
            " batch_normalization (Batch  (None, 1)                 4         \n",
            " Normalization)                                                  \n",
            "                                                                 \n",
            "=================================================================\n",
            "Total params: 4 (16.00 Byte)\n",
            "Trainable params: 2 (8.00 Byte)\n",
            "Non-trainable params: 2 (8.00 Byte)\n",
            "_________________________________________________________________\n"
          ]
        }
      ]
    },
    {
      "cell_type": "code",
      "source": [
        "x = Input(shape=(1,3))\n",
        "y = tf.square(x)  # This op will be treated like a layer\n",
        "y = BatchNormalization()(y)\n",
        "model = Model(x, y)\n",
        "model.summary()"
      ],
      "metadata": {
        "colab": {
          "base_uri": "https://localhost:8080/"
        },
        "id": "bzBxKoY038fF",
        "outputId": "b66a4ce6-f9b7-4843-b0fe-e054f48b7698"
      },
      "execution_count": null,
      "outputs": [
        {
          "output_type": "stream",
          "name": "stdout",
          "text": [
            "Model: \"model_1\"\n",
            "_________________________________________________________________\n",
            " Layer (type)                Output Shape              Param #   \n",
            "=================================================================\n",
            " input_2 (InputLayer)        [(None, 1, 3)]            0         \n",
            "                                                                 \n",
            " tf.math.square_1 (TFOpLamb  (None, 1, 3)              0         \n",
            " da)                                                             \n",
            "                                                                 \n",
            " batch_normalization_1 (Bat  (None, 1, 3)              12        \n",
            " chNormalization)                                                \n",
            "                                                                 \n",
            "=================================================================\n",
            "Total params: 12 (48.00 Byte)\n",
            "Trainable params: 6 (24.00 Byte)\n",
            "Non-trainable params: 6 (24.00 Byte)\n",
            "_________________________________________________________________\n"
          ]
        }
      ]
    },
    {
      "cell_type": "code",
      "source": [
        "x = Input(batch_size = 3, shape=(1))\n",
        "y = tf.square(x)  # This op will be treated like a layer\n",
        "y = BatchNormalization()(y)\n",
        "model = Model(x, y)\n",
        "model.summary()"
      ],
      "metadata": {
        "colab": {
          "base_uri": "https://localhost:8080/"
        },
        "id": "yPKotqOVIfu1",
        "outputId": "8b2318e3-0e30-4ac8-ea60-e8b1d22dc9fe"
      },
      "execution_count": null,
      "outputs": [
        {
          "output_type": "stream",
          "name": "stdout",
          "text": [
            "Model: \"model_2\"\n",
            "_________________________________________________________________\n",
            " Layer (type)                Output Shape              Param #   \n",
            "=================================================================\n",
            " input_3 (InputLayer)        [(3, 1)]                  0         \n",
            "                                                                 \n",
            " tf.math.square_2 (TFOpLamb  (3, 1)                    0         \n",
            " da)                                                             \n",
            "                                                                 \n",
            " batch_normalization_2 (Bat  (3, 1)                    4         \n",
            " chNormalization)                                                \n",
            "                                                                 \n",
            "=================================================================\n",
            "Total params: 4 (16.00 Byte)\n",
            "Trainable params: 2 (8.00 Byte)\n",
            "Non-trainable params: 2 (8.00 Byte)\n",
            "_________________________________________________________________\n"
          ]
        }
      ]
    },
    {
      "cell_type": "code",
      "source": [],
      "metadata": {
        "id": "K7N9N4O2Tp3o"
      },
      "execution_count": null,
      "outputs": []
    },
    {
      "cell_type": "code",
      "execution_count": null,
      "metadata": {
        "colab": {
          "base_uri": "https://localhost:8080/"
        },
        "id": "qEM20aJMwtm4",
        "outputId": "27f31708-27e6-46d3-a94b-2fbc15efb3fb"
      },
      "outputs": [
        {
          "output_type": "stream",
          "name": "stdout",
          "text": [
            "Model: \"model_3\"\n",
            "_________________________________________________________________\n",
            " Layer (type)                Output Shape              Param #   \n",
            "=================================================================\n",
            " input_4 (InputLayer)        [(None, 224, 224, 3)]     0         \n",
            "                                                                 \n",
            " conv2d (Conv2D)             (None, 224, 224, 2)       26        \n",
            "                                                                 \n",
            " conv2d_1 (Conv2D)           (None, 224, 224, 8)       72        \n",
            "                                                                 \n",
            " conv2d_2 (Conv2D)           (None, 224, 224, 12)      396       \n",
            "                                                                 \n",
            "=================================================================\n",
            "Total params: 494 (1.93 KB)\n",
            "Trainable params: 494 (1.93 KB)\n",
            "Non-trainable params: 0 (0.00 Byte)\n",
            "_________________________________________________________________\n"
          ]
        }
      ],
      "source": [
        "# num_parameters =  (krnl*krnl)*channel*filter + bias\n",
        "\n",
        "filters1= 2\n",
        "filters2= 8\n",
        "filters3= 12\n",
        "krnl= 2\n",
        "dropout = 0.3\n",
        "\n",
        "dimn = 224\n",
        "\n",
        "inputs = Input(shape=(dimn, dimn, 3))\n",
        "\n",
        "\n",
        "y1 = Conv2D(filters=filters1,kernel_size=(krnl, krnl), activation='relu', padding='same', kernel_initializer='he_normal', use_bias = True)(inputs)\n",
        "\n",
        "y2 = Conv2D(filters=filters2 ,kernel_size=(krnl, krnl), activation='relu', padding='same', kernel_initializer='he_normal', use_bias =True)(y1)\n",
        "\n",
        "y = Conv2D(filters=filters3 ,kernel_size=(krnl, krnl), activation='relu', padding='same', kernel_initializer='he_normal')(y2)\n",
        "\n",
        "# y = BatchNormalization()(y)\n",
        "\n",
        "\n",
        "outputs = y\n",
        "model = Model(inputs=inputs, outputs=outputs)\n",
        "\n",
        "model.summary()\n",
        "\n",
        "\n",
        "# Assignment 3\n",
        "\n",
        "# q1) Explain the parameter count in the batchnorm layer\n",
        "\n"
      ]
    },
    {
      "cell_type": "code",
      "execution_count": null,
      "metadata": {
        "colab": {
          "base_uri": "https://localhost:8080/"
        },
        "id": "QlIffZiTwtqj",
        "outputId": "1671bd98-bcd1-4415-ffa9-b20aa056fa75"
      },
      "outputs": [
        {
          "output_type": "stream",
          "name": "stdout",
          "text": [
            "layers 6\n"
          ]
        }
      ],
      "source": [
        "weights = model.get_weights()\n",
        "print('layers', len( weights))\n",
        "\n"
      ]
    },
    {
      "cell_type": "code",
      "execution_count": null,
      "metadata": {
        "colab": {
          "base_uri": "https://localhost:8080/"
        },
        "id": "NUUj8fMd4s70",
        "outputId": "076e44ed-5916-4e7d-a216-4a2e152f3895"
      },
      "outputs": [
        {
          "output_type": "execute_result",
          "data": {
            "text/plain": [
              "array([0., 0.], dtype=float32)"
            ]
          },
          "metadata": {},
          "execution_count": 8
        }
      ],
      "source": [
        "np.array( weights[1])"
      ]
    },
    {
      "cell_type": "code",
      "source": [
        "np.array( weights[0])"
      ],
      "metadata": {
        "colab": {
          "base_uri": "https://localhost:8080/"
        },
        "id": "03qZGSpmRLkc",
        "outputId": "53f78282-9769-446c-be5b-b44d5b865e36"
      },
      "execution_count": null,
      "outputs": [
        {
          "output_type": "execute_result",
          "data": {
            "text/plain": [
              "array([[[[ 0.02653238, -0.23867287],\n",
              "         [-0.06905353,  0.2525611 ],\n",
              "         [ 0.33297357, -0.8157547 ]],\n",
              "\n",
              "        [[ 0.02803571, -0.5613288 ],\n",
              "         [ 0.3629716 , -0.44227812],\n",
              "         [ 0.3272011 , -0.48695746]]],\n",
              "\n",
              "\n",
              "       [[[ 0.01982059,  0.35831353],\n",
              "         [ 0.23196746, -0.75176305],\n",
              "         [ 0.46096957,  0.25131428]],\n",
              "\n",
              "        [[ 0.7076463 , -0.6148178 ],\n",
              "         [ 0.15420197, -0.57862866],\n",
              "         [-0.3468531 , -0.05197895]]]], dtype=float32)"
            ]
          },
          "metadata": {},
          "execution_count": 9
        }
      ]
    },
    {
      "cell_type": "code",
      "source": [
        "np.array( weights[0]).shape"
      ],
      "metadata": {
        "colab": {
          "base_uri": "https://localhost:8080/"
        },
        "id": "tZdtv-p0W9bJ",
        "outputId": "77a5ba12-10a6-46ed-c673-a03c6aec77ee"
      },
      "execution_count": null,
      "outputs": [
        {
          "output_type": "execute_result",
          "data": {
            "text/plain": [
              "(2, 2, 3, 2)"
            ]
          },
          "metadata": {},
          "execution_count": 10
        }
      ]
    },
    {
      "cell_type": "code",
      "execution_count": null,
      "metadata": {
        "id": "UmCcGRx-wtx9"
      },
      "outputs": [],
      "source": [
        "#print('shapes',weights[0].shape, weights[1].shape,weights[2].shape, weights[3].shape)\n",
        "\n"
      ]
    },
    {
      "cell_type": "code",
      "execution_count": null,
      "metadata": {
        "id": "_e9LqXdZFgmR"
      },
      "outputs": [],
      "source": []
    },
    {
      "cell_type": "markdown",
      "metadata": {
        "id": "iTRoJFUmFWx_"
      },
      "source": [
        "**Check your basic operations**"
      ]
    },
    {
      "cell_type": "code",
      "execution_count": null,
      "metadata": {
        "colab": {
          "base_uri": "https://localhost:8080/"
        },
        "id": "r6G3aOzlx1E3",
        "outputId": "0d169da4-2914-4543-f693-4f76223e0908"
      },
      "outputs": [
        {
          "output_type": "stream",
          "name": "stdout",
          "text": [
            "Model: \"model_4\"\n",
            "__________________________________________________________________________________________________\n",
            " Layer (type)                Output Shape                 Param #   Connected to                  \n",
            "==================================================================================================\n",
            " input_5 (InputLayer)        [(None, 224, 224, 3)]        0         []                            \n",
            "                                                                                                  \n",
            " conv2d_3 (Conv2D)           (None, 224, 224, 3)          84        ['input_5[0][0]']             \n",
            "                                                                                                  \n",
            " conv2d_4 (Conv2D)           (None, 224, 224, 32)         896       ['conv2d_3[0][0]']            \n",
            "                                                                                                  \n",
            " conv2d_5 (Conv2D)           (None, 224, 224, 32)         896       ['conv2d_3[0][0]']            \n",
            "                                                                                                  \n",
            " subtract (Subtract)         (None, 224, 224, 32)         0         ['conv2d_4[0][0]',            \n",
            "                                                                     'conv2d_5[0][0]']            \n",
            "                                                                                                  \n",
            "==================================================================================================\n",
            "Total params: 1876 (7.33 KB)\n",
            "Trainable params: 1876 (7.33 KB)\n",
            "Non-trainable params: 0 (0.00 Byte)\n",
            "__________________________________________________________________________________________________\n"
          ]
        }
      ],
      "source": [
        "\n",
        "# Basic algebric operation\n",
        "\n",
        "\n",
        "\n",
        "filters1= 3\n",
        "filters2= 32\n",
        "kernel_size=3\n",
        "dropout = 0.3\n",
        "\n",
        "operation = 2\n",
        "\n",
        "\n",
        "dimn = 224\n",
        "inputs = Input(shape=(dimn, dimn, 3))\n",
        "y = Conv2D(filters=filters1,kernel_size=kernel_size, activation='relu', padding='same', kernel_initializer='he_normal')(inputs)\n",
        "\n",
        "y1 = Conv2D(filters=filters2 ,kernel_size=kernel_size, activation='relu', padding='same', kernel_initializer='he_normal')(y)\n",
        "\n",
        "y2 = Conv2D(filters=filters2 ,kernel_size=kernel_size, activation='relu', padding='same', kernel_initializer='he_normal')(y)\n",
        "\n",
        "if operation==1:\n",
        "  y = add([y1,y2])\n",
        "\n",
        "elif operation==2:\n",
        "  y = subtract([y1,y2])\n",
        "\n",
        "else:\n",
        "  y = multiply([y1,y2])\n",
        "\n",
        "\n",
        "#y = MaxPooling2D(8,8)(y)\n",
        "#y = GlobalAvgPool2D()(y)\n",
        "outputs = y\n",
        "model = Model(inputs=inputs, outputs=outputs)\n",
        "\n",
        "model.summary()\n"
      ]
    },
    {
      "cell_type": "code",
      "execution_count": null,
      "metadata": {
        "id": "PL90NDcFx1IF"
      },
      "outputs": [],
      "source": []
    },
    {
      "cell_type": "code",
      "execution_count": null,
      "metadata": {
        "id": "MwoPj5Zlx1Lr"
      },
      "outputs": [],
      "source": []
    },
    {
      "cell_type": "markdown",
      "metadata": {
        "id": "r_6TT6tVFP-x"
      },
      "source": [
        "**Basic Classfier**"
      ]
    },
    {
      "cell_type": "code",
      "execution_count": null,
      "metadata": {
        "colab": {
          "base_uri": "https://localhost:8080/"
        },
        "id": "TGFK9UyOx1Ov",
        "outputId": "44045a47-cfd4-492a-a9f7-3481f94f0bc6"
      },
      "outputs": [
        {
          "output_type": "stream",
          "name": "stdout",
          "text": [
            "Model: \"model_5\"\n",
            "_________________________________________________________________\n",
            " Layer (type)                Output Shape              Param #   \n",
            "=================================================================\n",
            " input_6 (InputLayer)        [(None, 32, 32, 3)]       0         \n",
            "                                                                 \n",
            " conv2d_6 (Conv2D)           (None, 32, 32, 64)        1792      \n",
            "                                                                 \n",
            " max_pooling2d (MaxPooling2  (None, 16, 16, 64)        0         \n",
            " D)                                                              \n",
            "                                                                 \n",
            " conv2d_7 (Conv2D)           (None, 16, 16, 64)        36928     \n",
            "                                                                 \n",
            " max_pooling2d_1 (MaxPoolin  (None, 8, 8, 64)          0         \n",
            " g2D)                                                            \n",
            "                                                                 \n",
            " conv2d_8 (Conv2D)           (None, 8, 8, 64)          36928     \n",
            "                                                                 \n",
            " max_pooling2d_2 (MaxPoolin  (None, 4, 4, 64)          0         \n",
            " g2D)                                                            \n",
            "                                                                 \n",
            " conv2d_9 (Conv2D)           (None, 4, 4, 64)          36928     \n",
            "                                                                 \n",
            " flatten (Flatten)           (None, 1024)              0         \n",
            "                                                                 \n",
            " dropout (Dropout)           (None, 1024)              0         \n",
            "                                                                 \n",
            " dense (Dense)               (None, 10)                10250     \n",
            "                                                                 \n",
            "=================================================================\n",
            "Total params: 122826 (479.79 KB)\n",
            "Trainable params: 122826 (479.79 KB)\n",
            "Non-trainable params: 0 (0.00 Byte)\n",
            "_________________________________________________________________\n"
          ]
        }
      ],
      "source": [
        "filters=64\n",
        "kernel_size=3\n",
        "dropout = 0.3\n",
        "\n",
        "inputs = Input(shape=(32, 32, 3))\n",
        "\n",
        "y = Conv2D(filters=filters,kernel_size=kernel_size,activation='relu', padding='same', kernel_initializer='he_normal')(inputs)\n",
        "y = MaxPooling2D()(y)\n",
        "\n",
        "\n",
        "y = Conv2D(filters=filters,kernel_size=kernel_size,activation='relu', padding='same', kernel_initializer='he_normal')(y)\n",
        "y = MaxPooling2D()(y)\n",
        "\n",
        "\n",
        "\n",
        "y = Conv2D(filters=filters,kernel_size=kernel_size,activation='relu', padding='same', kernel_initializer='he_normal')(y)\n",
        "y = MaxPooling2D()(y)\n",
        "\n",
        "\n",
        "\n",
        "y = Conv2D(filters=filters,kernel_size=kernel_size,activation='relu', padding='same', kernel_initializer='he_normal')(y)\n",
        "\n",
        "y = Flatten()(y)\n",
        "\n",
        "y = Dropout(dropout)(y)\n",
        "outputs = Dense(10, activation='softmax')(y)\n",
        "\n",
        "\n",
        "model = Model(inputs=inputs, outputs=outputs)\n",
        "\n",
        "model.summary()\n",
        "\n",
        "# Assignment q2) Activation softmax why at the classification layer?"
      ]
    }
  ],
  "metadata": {
    "colab": {
      "provenance": []
    },
    "kernelspec": {
      "display_name": "Python 3 (ipykernel)",
      "language": "python",
      "name": "python3"
    },
    "language_info": {
      "codemirror_mode": {
        "name": "ipython",
        "version": 3
      },
      "file_extension": ".py",
      "mimetype": "text/x-python",
      "name": "python",
      "nbconvert_exporter": "python",
      "pygments_lexer": "ipython3",
      "version": "3.8.10"
    }
  },
  "nbformat": 4,
  "nbformat_minor": 0
}